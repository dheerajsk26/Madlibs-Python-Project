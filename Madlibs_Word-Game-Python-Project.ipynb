{
 "cells": [
  {
   "cell_type": "markdown",
   "id": "82a9211d",
   "metadata": {},
   "source": [
    "# Fun Python Project – Madlibs"
   ]
  },
  {
   "cell_type": "code",
   "execution_count": 2,
   "id": "dc5fdb49",
   "metadata": {},
   "outputs": [
    {
     "name": "stdout",
     "output_type": "stream",
     "text": [
      "Welcome to Mad Libs – Fun word game!\n",
      "Please provide the following words:\n",
      "Adjective: talented\n",
      "First Noun: musician\n",
      "Second Noun: artist\n",
      "Verb: run\n",
      "Place: Iceland\n",
      "\n",
      "Here's your story:\n",
      "One day, a talented musician decided to run to the Iceland.It was there that the musician met a artist. They became best friends and lived happily ever after.\n",
      "\n",
      "Thanks for playing!\n"
     ]
    }
   ],
   "source": [
    "def mad_libs():\n",
    "    print(\"Welcome to Mad Libs – Fun word game!\")\n",
    "    print(\"Please provide the following words:\")\n",
    "\n",
    "    \n",
    "    # User inputs\n",
    "    adjective = input(\"Adjective: \")\n",
    "    noun1 = input(\"First Noun: \")\n",
    "    noun2 = input(\"Second Noun: \")\n",
    "    verb = input(\"Verb: \")\n",
    "    place = input(\"Place: \")\n",
    "\n",
    "    \n",
    "    # The story template\n",
    "    story = f\"One day, a {adjective} {noun1} decided to {verb} to the {place}.It was there that the {noun1} met a {noun2}. They became best friends and lived happily ever after.\"\n",
    "\n",
    "    \n",
    "    # Display the story\n",
    "    print(\"\\nHere's your story:\")\n",
    "    print(story)\n",
    "    print(\"\\nThanks for playing!\")\n",
    "\n",
    "# Running the game\n",
    "mad_libs()"
   ]
  },
  {
   "cell_type": "code",
   "execution_count": null,
   "id": "180f2945",
   "metadata": {},
   "outputs": [],
   "source": []
  }
 ],
 "metadata": {
  "kernelspec": {
   "display_name": "Python 3 (ipykernel)",
   "language": "python",
   "name": "python3"
  },
  "language_info": {
   "codemirror_mode": {
    "name": "ipython",
    "version": 3
   },
   "file_extension": ".py",
   "mimetype": "text/x-python",
   "name": "python",
   "nbconvert_exporter": "python",
   "pygments_lexer": "ipython3",
   "version": "3.9.12"
  }
 },
 "nbformat": 4,
 "nbformat_minor": 5
}
